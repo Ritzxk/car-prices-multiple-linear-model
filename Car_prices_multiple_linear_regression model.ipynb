{
 "cells": [
  {
   "cell_type": "markdown",
   "id": "635204c4",
   "metadata": {},
   "source": [
    "## Problem Statement"
   ]
  },
  {
   "cell_type": "markdown",
   "id": "511cbbe7",
   "metadata": {},
   "source": [
    "A Chinese automobile company, **Geely Auto**, aspires to enter the US market by setting up their manufacturing unit there and producing cars locally to give competition to their US and European counterparts.<br>\n",
    "They have contracted an automobile consulting company to understand the factors on which the pricing of cars depends. Specifically, they want to understand the factors affecting car pricing in the American market, as they may differ from the Chinese market.<br> \n",
    "\n",
    "<bt>The company wants to know the following things:<br>\n",
    "\n",
    "- Which variables are significant in predicting the price of a car?\n",
    "- How well do those variables describe the price of a car?<br><br>Based on various market surveys, the consulting firm has gathered a large data set of different types of cars across the American market."
   ]
  },
  {
   "cell_type": "code",
   "execution_count": null,
   "id": "e07aa4c0",
   "metadata": {},
   "outputs": [],
   "source": []
  },
  {
   "cell_type": "code",
   "execution_count": null,
   "id": "2181233c",
   "metadata": {},
   "outputs": [],
   "source": []
  }
 ],
 "metadata": {
  "kernelspec": {
   "display_name": "Python 3",
   "language": "python",
   "name": "python3"
  },
  "language_info": {
   "codemirror_mode": {
    "name": "ipython",
    "version": 3
   },
   "file_extension": ".py",
   "mimetype": "text/x-python",
   "name": "python",
   "nbconvert_exporter": "python",
   "pygments_lexer": "ipython3",
   "version": "3.8.8"
  }
 },
 "nbformat": 4,
 "nbformat_minor": 5
}
